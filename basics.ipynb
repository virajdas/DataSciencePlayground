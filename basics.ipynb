{
 "cells": [
  {
   "cell_type": "markdown",
   "id": "7259e00e",
   "metadata": {},
   "source": [
    "# BASIC PYTHON DATA SCIENCE"
   ]
  },
  {
   "cell_type": "markdown",
   "id": "5b6eeb80",
   "metadata": {},
   "source": [
    "This document serves as a complete assembly for the concepts covered in the Data Science Unit of the Innovation Academy Foundations of AI class. It may be used as a comprehensible guide to review information or build understanding."
   ]
  },
  {
   "cell_type": "code",
   "execution_count": 62,
   "id": "26e73d54",
   "metadata": {},
   "outputs": [
    {
     "data": {
      "text/plain": [
       "'You use print statements??? Why?'"
      ]
     },
     "execution_count": 62,
     "metadata": {},
     "output_type": "execute_result"
    }
   ],
   "source": [
    "\"You use print statements??? Why?\""
   ]
  },
  {
   "cell_type": "markdown",
   "id": "906de209",
   "metadata": {},
   "source": [
    "### LISTS PRACTICE"
   ]
  },
  {
   "cell_type": "code",
   "execution_count": 5,
   "id": "7132156d",
   "metadata": {},
   "outputs": [],
   "source": [
    "name_list = [\"John\", \"Mary\", \"Bob\", \"Alice\", \"Eve\", \"Charlie\", \"David\", \"Faaythe\"]"
   ]
  },
  {
   "cell_type": "code",
   "execution_count": 7,
   "id": "3968f84a",
   "metadata": {},
   "outputs": [
    {
     "data": {
      "text/plain": [
       "'Eve'"
      ]
     },
     "execution_count": 7,
     "metadata": {},
     "output_type": "execute_result"
    }
   ],
   "source": [
    "name_list[4]"
   ]
  },
  {
   "cell_type": "code",
   "execution_count": 8,
   "id": "57cb53f8",
   "metadata": {},
   "outputs": [
    {
     "data": {
      "text/plain": [
       "'Bob'"
      ]
     },
     "execution_count": 8,
     "metadata": {},
     "output_type": "execute_result"
    }
   ],
   "source": [
    "name_list[2]"
   ]
  },
  {
   "cell_type": "code",
   "execution_count": 9,
   "id": "a7ed6374",
   "metadata": {},
   "outputs": [
    {
     "data": {
      "text/plain": [
       "'Bob'"
      ]
     },
     "execution_count": 9,
     "metadata": {},
     "output_type": "execute_result"
    }
   ],
   "source": [
    "name_list[-6]"
   ]
  },
  {
   "cell_type": "markdown",
   "id": "74a52574",
   "metadata": {},
   "source": [
    "### DICTIONARY PRACTICE"
   ]
  },
  {
   "cell_type": "code",
   "execution_count": 52,
   "id": "467664e1",
   "metadata": {},
   "outputs": [],
   "source": [
    "my_dict = {\n",
    "    \"name\": \"Viraj\",\n",
    "    \"age\": 15,\n",
    "    \"city\": \"YOU THOUGHT! HA!\",\n",
    "    \"is_student\": True\n",
    "}"
   ]
  },
  {
   "cell_type": "code",
   "execution_count": 54,
   "id": "9a8ccef5",
   "metadata": {},
   "outputs": [
    {
     "data": {
      "text/plain": [
       "'Viraj Awesome Awesome'"
      ]
     },
     "execution_count": 54,
     "metadata": {},
     "output_type": "execute_result"
    }
   ],
   "source": [
    "my_dict[\"name\"] = my_dict[\"name\"] + \" Awesome\"\n",
    "my_dict[\"name\"]"
   ]
  }
 ],
 "metadata": {
  "kernelspec": {
   "display_name": "Python 3",
   "language": "python",
   "name": "python3"
  },
  "language_info": {
   "codemirror_mode": {
    "name": "ipython",
    "version": 3
   },
   "file_extension": ".py",
   "mimetype": "text/x-python",
   "name": "python",
   "nbconvert_exporter": "python",
   "pygments_lexer": "ipython3",
   "version": "3.12.1"
  }
 },
 "nbformat": 4,
 "nbformat_minor": 5
}
