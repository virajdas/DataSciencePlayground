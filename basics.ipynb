{
 "cells": [
  {
   "cell_type": "markdown",
   "id": "7259e00e",
   "metadata": {},
   "source": [
    "# BASIC PYTHON DATA SCIENCE"
   ]
  },
  {
   "cell_type": "markdown",
   "id": "5b6eeb80",
   "metadata": {},
   "source": [
    "This document serves as a complete assembly for the concepts covered in the Data Science Unit of the Innovation Academy Foundations of AI class. It may be used as a comprehensible guide to review information or build understanding."
   ]
  },
  {
   "cell_type": "code",
   "execution_count": 62,
   "id": "26e73d54",
   "metadata": {},
   "outputs": [
    {
     "data": {
      "text/plain": [
       "'You use print statements??? Why?'"
      ]
     },
     "execution_count": 62,
     "metadata": {},
     "output_type": "execute_result"
    }
   ],
   "source": [
    "\"You use print statements??? Why?\""
   ]
  },
  {
   "cell_type": "markdown",
   "id": "906de209",
   "metadata": {},
   "source": [
    "### LISTS PRACTICE"
   ]
  },
  {
   "cell_type": "code",
   "execution_count": 5,
   "id": "7132156d",
   "metadata": {},
   "outputs": [],
   "source": [
    "name_list = [\"John\", \"Mary\", \"Bob\", \"Alice\", \"Eve\", \"Charlie\", \"David\", \"Faaythe\"]"
   ]
  },
  {
   "cell_type": "code",
   "execution_count": 7,
   "id": "3968f84a",
   "metadata": {},
   "outputs": [
    {
     "data": {
      "text/plain": [
       "'Eve'"
      ]
     },
     "execution_count": 7,
     "metadata": {},
     "output_type": "execute_result"
    }
   ],
   "source": [
    "name_list[4]"
   ]
  },
  {
   "cell_type": "code",
   "execution_count": 8,
   "id": "57cb53f8",
   "metadata": {},
   "outputs": [
    {
     "data": {
      "text/plain": [
       "'Bob'"
      ]
     },
     "execution_count": 8,
     "metadata": {},
     "output_type": "execute_result"
    }
   ],
   "source": [
    "name_list[2]"
   ]
  },
  {
   "cell_type": "code",
   "execution_count": 9,
   "id": "a7ed6374",
   "metadata": {},
   "outputs": [
    {
     "data": {
      "text/plain": [
       "'Bob'"
      ]
     },
     "execution_count": 9,
     "metadata": {},
     "output_type": "execute_result"
    }
   ],
   "source": [
    "name_list[-6]"
   ]
  },
  {
   "cell_type": "markdown",
   "id": "74a52574",
   "metadata": {},
   "source": [
    "### DICTIONARY PRACTICE"
   ]
  },
  {
   "cell_type": "code",
   "execution_count": 52,
   "id": "467664e1",
   "metadata": {},
   "outputs": [],
   "source": [
    "my_dict = {\n",
    "    \"name\": \"Viraj\",\n",
    "    \"age\": 15,\n",
    "    \"city\": \"YOU THOUGHT! HA!\",\n",
    "    \"is_student\": True\n",
    "}"
   ]
  },
  {
   "cell_type": "code",
   "execution_count": 54,
   "id": "9a8ccef5",
   "metadata": {},
   "outputs": [
    {
     "data": {
      "text/plain": [
       "'Viraj Awesome Awesome'"
      ]
     },
     "execution_count": 54,
     "metadata": {},
     "output_type": "execute_result"
    }
   ],
   "source": [
    "my_dict[\"name\"] = my_dict[\"name\"] + \" Awesome\"\n",
    "my_dict[\"name\"]"
   ]
  },
  {
   "cell_type": "markdown",
   "id": "949a5756",
   "metadata": {},
   "source": [
    "### PANDAS PRACTICE"
   ]
  },
  {
   "cell_type": "code",
   "execution_count": 11,
   "id": "8171d49f",
   "metadata": {},
   "outputs": [],
   "source": [
    "import pandas as pd"
   ]
  },
  {
   "cell_type": "code",
   "execution_count": 38,
   "id": "e424e92f",
   "metadata": {},
   "outputs": [],
   "source": [
    "data = pd.read_csv(\"pokemon.csv\", header=0, sep=\",\")"
   ]
  },
  {
   "cell_type": "code",
   "execution_count": 39,
   "id": "174e263b",
   "metadata": {},
   "outputs": [
    {
     "name": "stdout",
     "output_type": "stream",
     "text": [
      "<class 'pandas.core.frame.DataFrame'>\n",
      "RangeIndex: 1028 entries, 0 to 1027\n",
      "Data columns (total 12 columns):\n",
      " #   Column           Non-Null Count  Dtype \n",
      "---  ------           --------------  ----- \n",
      " 0   Unnamed: 0       1028 non-null   int64 \n",
      " 1   Pokemon          1028 non-null   object\n",
      " 2   Ndex             1028 non-null   int64 \n",
      " 3   Type1            1028 non-null   object\n",
      " 4   Type2            543 non-null    object\n",
      " 5   Total            1028 non-null   int64 \n",
      " 6   Hp               1028 non-null   int64 \n",
      " 7   Attack           1028 non-null   int64 \n",
      " 8   Defense          1028 non-null   int64 \n",
      " 9   Special Attack   1028 non-null   int64 \n",
      " 10  Special Defense  1028 non-null   int64 \n",
      " 11  Speed            1028 non-null   int64 \n",
      "dtypes: int64(9), object(3)\n",
      "memory usage: 96.5+ KB\n"
     ]
    }
   ],
   "source": [
    "data.info()"
   ]
  },
  {
   "cell_type": "code",
   "execution_count": 40,
   "id": "8be80df4",
   "metadata": {},
   "outputs": [
    {
     "data": {
      "text/html": [
       "<div>\n",
       "<style scoped>\n",
       "    .dataframe tbody tr th:only-of-type {\n",
       "        vertical-align: middle;\n",
       "    }\n",
       "\n",
       "    .dataframe tbody tr th {\n",
       "        vertical-align: top;\n",
       "    }\n",
       "\n",
       "    .dataframe thead th {\n",
       "        text-align: right;\n",
       "    }\n",
       "</style>\n",
       "<table border=\"1\" class=\"dataframe\">\n",
       "  <thead>\n",
       "    <tr style=\"text-align: right;\">\n",
       "      <th></th>\n",
       "      <th>Unnamed: 0</th>\n",
       "      <th>Pokemon</th>\n",
       "      <th>Ndex</th>\n",
       "      <th>Type1</th>\n",
       "      <th>Type2</th>\n",
       "      <th>Total</th>\n",
       "      <th>Hp</th>\n",
       "      <th>Attack</th>\n",
       "      <th>Defense</th>\n",
       "      <th>Special Attack</th>\n",
       "      <th>Special Defense</th>\n",
       "      <th>Speed</th>\n",
       "    </tr>\n",
       "  </thead>\n",
       "  <tbody>\n",
       "    <tr>\n",
       "      <th>0</th>\n",
       "      <td>1</td>\n",
       "      <td>Bulbasaur</td>\n",
       "      <td>1</td>\n",
       "      <td>Grass</td>\n",
       "      <td>Poison</td>\n",
       "      <td>318</td>\n",
       "      <td>45</td>\n",
       "      <td>49</td>\n",
       "      <td>49</td>\n",
       "      <td>65</td>\n",
       "      <td>65</td>\n",
       "      <td>45</td>\n",
       "    </tr>\n",
       "    <tr>\n",
       "      <th>1</th>\n",
       "      <td>2</td>\n",
       "      <td>Ivysaur</td>\n",
       "      <td>2</td>\n",
       "      <td>Grass</td>\n",
       "      <td>Poison</td>\n",
       "      <td>405</td>\n",
       "      <td>60</td>\n",
       "      <td>62</td>\n",
       "      <td>63</td>\n",
       "      <td>80</td>\n",
       "      <td>80</td>\n",
       "      <td>60</td>\n",
       "    </tr>\n",
       "    <tr>\n",
       "      <th>2</th>\n",
       "      <td>3</td>\n",
       "      <td>Venusaur</td>\n",
       "      <td>3</td>\n",
       "      <td>Grass</td>\n",
       "      <td>Poison</td>\n",
       "      <td>525</td>\n",
       "      <td>80</td>\n",
       "      <td>82</td>\n",
       "      <td>83</td>\n",
       "      <td>100</td>\n",
       "      <td>100</td>\n",
       "      <td>80</td>\n",
       "    </tr>\n",
       "    <tr>\n",
       "      <th>3</th>\n",
       "      <td>4</td>\n",
       "      <td>Venusaur</td>\n",
       "      <td>3</td>\n",
       "      <td>Grass</td>\n",
       "      <td>Poison</td>\n",
       "      <td>625</td>\n",
       "      <td>80</td>\n",
       "      <td>100</td>\n",
       "      <td>123</td>\n",
       "      <td>122</td>\n",
       "      <td>120</td>\n",
       "      <td>80</td>\n",
       "    </tr>\n",
       "    <tr>\n",
       "      <th>4</th>\n",
       "      <td>5</td>\n",
       "      <td>Charmander</td>\n",
       "      <td>4</td>\n",
       "      <td>Fire</td>\n",
       "      <td>NaN</td>\n",
       "      <td>309</td>\n",
       "      <td>39</td>\n",
       "      <td>52</td>\n",
       "      <td>43</td>\n",
       "      <td>60</td>\n",
       "      <td>50</td>\n",
       "      <td>65</td>\n",
       "    </tr>\n",
       "    <tr>\n",
       "      <th>...</th>\n",
       "      <td>...</td>\n",
       "      <td>...</td>\n",
       "      <td>...</td>\n",
       "      <td>...</td>\n",
       "      <td>...</td>\n",
       "      <td>...</td>\n",
       "      <td>...</td>\n",
       "      <td>...</td>\n",
       "      <td>...</td>\n",
       "      <td>...</td>\n",
       "      <td>...</td>\n",
       "      <td>...</td>\n",
       "    </tr>\n",
       "    <tr>\n",
       "      <th>1023</th>\n",
       "      <td>1030</td>\n",
       "      <td>Eternatus</td>\n",
       "      <td>890</td>\n",
       "      <td>Poison</td>\n",
       "      <td>Dragon</td>\n",
       "      <td>1125</td>\n",
       "      <td>255</td>\n",
       "      <td>115</td>\n",
       "      <td>250</td>\n",
       "      <td>125</td>\n",
       "      <td>250</td>\n",
       "      <td>130</td>\n",
       "    </tr>\n",
       "    <tr>\n",
       "      <th>1024</th>\n",
       "      <td>1031</td>\n",
       "      <td>Kubfu</td>\n",
       "      <td>891</td>\n",
       "      <td>Fighting</td>\n",
       "      <td>NaN</td>\n",
       "      <td>385</td>\n",
       "      <td>60</td>\n",
       "      <td>90</td>\n",
       "      <td>60</td>\n",
       "      <td>53</td>\n",
       "      <td>50</td>\n",
       "      <td>72</td>\n",
       "    </tr>\n",
       "    <tr>\n",
       "      <th>1025</th>\n",
       "      <td>1032</td>\n",
       "      <td>Urshifu</td>\n",
       "      <td>892</td>\n",
       "      <td>Fighting</td>\n",
       "      <td>Dark</td>\n",
       "      <td>550</td>\n",
       "      <td>100</td>\n",
       "      <td>130</td>\n",
       "      <td>100</td>\n",
       "      <td>63</td>\n",
       "      <td>60</td>\n",
       "      <td>97</td>\n",
       "    </tr>\n",
       "    <tr>\n",
       "      <th>1026</th>\n",
       "      <td>1033</td>\n",
       "      <td>Urshifu</td>\n",
       "      <td>892</td>\n",
       "      <td>Fighting</td>\n",
       "      <td>Water</td>\n",
       "      <td>550</td>\n",
       "      <td>100</td>\n",
       "      <td>130</td>\n",
       "      <td>100</td>\n",
       "      <td>63</td>\n",
       "      <td>60</td>\n",
       "      <td>97</td>\n",
       "    </tr>\n",
       "    <tr>\n",
       "      <th>1027</th>\n",
       "      <td>1034</td>\n",
       "      <td>Zarude</td>\n",
       "      <td>893</td>\n",
       "      <td>Dark</td>\n",
       "      <td>Grass</td>\n",
       "      <td>600</td>\n",
       "      <td>105</td>\n",
       "      <td>120</td>\n",
       "      <td>105</td>\n",
       "      <td>70</td>\n",
       "      <td>95</td>\n",
       "      <td>105</td>\n",
       "    </tr>\n",
       "  </tbody>\n",
       "</table>\n",
       "<p>1028 rows × 12 columns</p>\n",
       "</div>"
      ],
      "text/plain": [
       "      Unnamed: 0     Pokemon  Ndex     Type1   Type2  Total   Hp  Attack  \\\n",
       "0              1   Bulbasaur     1     Grass  Poison    318   45      49   \n",
       "1              2     Ivysaur     2     Grass  Poison    405   60      62   \n",
       "2              3    Venusaur     3     Grass  Poison    525   80      82   \n",
       "3              4    Venusaur     3     Grass  Poison    625   80     100   \n",
       "4              5  Charmander     4      Fire     NaN    309   39      52   \n",
       "...          ...         ...   ...       ...     ...    ...  ...     ...   \n",
       "1023        1030   Eternatus   890    Poison  Dragon   1125  255     115   \n",
       "1024        1031       Kubfu   891  Fighting     NaN    385   60      90   \n",
       "1025        1032     Urshifu   892  Fighting    Dark    550  100     130   \n",
       "1026        1033     Urshifu   892  Fighting   Water    550  100     130   \n",
       "1027        1034      Zarude   893      Dark   Grass    600  105     120   \n",
       "\n",
       "      Defense  Special Attack  Special Defense  Speed  \n",
       "0          49              65               65     45  \n",
       "1          63              80               80     60  \n",
       "2          83             100              100     80  \n",
       "3         123             122              120     80  \n",
       "4          43              60               50     65  \n",
       "...       ...             ...              ...    ...  \n",
       "1023      250             125              250    130  \n",
       "1024       60              53               50     72  \n",
       "1025      100              63               60     97  \n",
       "1026      100              63               60     97  \n",
       "1027      105              70               95    105  \n",
       "\n",
       "[1028 rows x 12 columns]"
      ]
     },
     "execution_count": 40,
     "metadata": {},
     "output_type": "execute_result"
    }
   ],
   "source": [
    "data"
   ]
  },
  {
   "cell_type": "code",
   "execution_count": 41,
   "id": "ae12c7a1",
   "metadata": {},
   "outputs": [],
   "source": [
    "clean_data = data.dropna(axis=0, inplace=False)"
   ]
  },
  {
   "cell_type": "code",
   "execution_count": 42,
   "id": "5a91a530",
   "metadata": {},
   "outputs": [
    {
     "name": "stdout",
     "output_type": "stream",
     "text": [
      "<class 'pandas.core.frame.DataFrame'>\n",
      "Index: 543 entries, 0 to 1027\n",
      "Data columns (total 12 columns):\n",
      " #   Column           Non-Null Count  Dtype \n",
      "---  ------           --------------  ----- \n",
      " 0   Unnamed: 0       543 non-null    int64 \n",
      " 1   Pokemon          543 non-null    object\n",
      " 2   Ndex             543 non-null    int64 \n",
      " 3   Type1            543 non-null    object\n",
      " 4   Type2            543 non-null    object\n",
      " 5   Total            543 non-null    int64 \n",
      " 6   Hp               543 non-null    int64 \n",
      " 7   Attack           543 non-null    int64 \n",
      " 8   Defense          543 non-null    int64 \n",
      " 9   Special Attack   543 non-null    int64 \n",
      " 10  Special Defense  543 non-null    int64 \n",
      " 11  Speed            543 non-null    int64 \n",
      "dtypes: int64(9), object(3)\n",
      "memory usage: 55.1+ KB\n"
     ]
    }
   ],
   "source": [
    "clean_data.info()"
   ]
  },
  {
   "cell_type": "code",
   "execution_count": 43,
   "id": "436c8427",
   "metadata": {},
   "outputs": [
    {
     "data": {
      "text/html": [
       "<div>\n",
       "<style scoped>\n",
       "    .dataframe tbody tr th:only-of-type {\n",
       "        vertical-align: middle;\n",
       "    }\n",
       "\n",
       "    .dataframe tbody tr th {\n",
       "        vertical-align: top;\n",
       "    }\n",
       "\n",
       "    .dataframe thead th {\n",
       "        text-align: right;\n",
       "    }\n",
       "</style>\n",
       "<table border=\"1\" class=\"dataframe\">\n",
       "  <thead>\n",
       "    <tr style=\"text-align: right;\">\n",
       "      <th></th>\n",
       "      <th>Unnamed: 0</th>\n",
       "      <th>Pokemon</th>\n",
       "      <th>Ndex</th>\n",
       "      <th>Type1</th>\n",
       "      <th>Type2</th>\n",
       "      <th>Total</th>\n",
       "      <th>Hp</th>\n",
       "      <th>Attack</th>\n",
       "      <th>Defense</th>\n",
       "      <th>Special Attack</th>\n",
       "      <th>Special Defense</th>\n",
       "      <th>Speed</th>\n",
       "    </tr>\n",
       "  </thead>\n",
       "  <tbody>\n",
       "    <tr>\n",
       "      <th>0</th>\n",
       "      <td>1</td>\n",
       "      <td>Bulbasaur</td>\n",
       "      <td>1</td>\n",
       "      <td>Grass</td>\n",
       "      <td>Poison</td>\n",
       "      <td>318</td>\n",
       "      <td>45</td>\n",
       "      <td>49</td>\n",
       "      <td>49</td>\n",
       "      <td>65</td>\n",
       "      <td>65</td>\n",
       "      <td>45</td>\n",
       "    </tr>\n",
       "    <tr>\n",
       "      <th>1</th>\n",
       "      <td>2</td>\n",
       "      <td>Ivysaur</td>\n",
       "      <td>2</td>\n",
       "      <td>Grass</td>\n",
       "      <td>Poison</td>\n",
       "      <td>405</td>\n",
       "      <td>60</td>\n",
       "      <td>62</td>\n",
       "      <td>63</td>\n",
       "      <td>80</td>\n",
       "      <td>80</td>\n",
       "      <td>60</td>\n",
       "    </tr>\n",
       "    <tr>\n",
       "      <th>2</th>\n",
       "      <td>3</td>\n",
       "      <td>Venusaur</td>\n",
       "      <td>3</td>\n",
       "      <td>Grass</td>\n",
       "      <td>Poison</td>\n",
       "      <td>525</td>\n",
       "      <td>80</td>\n",
       "      <td>82</td>\n",
       "      <td>83</td>\n",
       "      <td>100</td>\n",
       "      <td>100</td>\n",
       "      <td>80</td>\n",
       "    </tr>\n",
       "    <tr>\n",
       "      <th>3</th>\n",
       "      <td>4</td>\n",
       "      <td>Venusaur</td>\n",
       "      <td>3</td>\n",
       "      <td>Grass</td>\n",
       "      <td>Poison</td>\n",
       "      <td>625</td>\n",
       "      <td>80</td>\n",
       "      <td>100</td>\n",
       "      <td>123</td>\n",
       "      <td>122</td>\n",
       "      <td>120</td>\n",
       "      <td>80</td>\n",
       "    </tr>\n",
       "    <tr>\n",
       "      <th>6</th>\n",
       "      <td>7</td>\n",
       "      <td>Charizard</td>\n",
       "      <td>6</td>\n",
       "      <td>Fire</td>\n",
       "      <td>Flying</td>\n",
       "      <td>534</td>\n",
       "      <td>78</td>\n",
       "      <td>84</td>\n",
       "      <td>78</td>\n",
       "      <td>109</td>\n",
       "      <td>85</td>\n",
       "      <td>100</td>\n",
       "    </tr>\n",
       "    <tr>\n",
       "      <th>...</th>\n",
       "      <td>...</td>\n",
       "      <td>...</td>\n",
       "      <td>...</td>\n",
       "      <td>...</td>\n",
       "      <td>...</td>\n",
       "      <td>...</td>\n",
       "      <td>...</td>\n",
       "      <td>...</td>\n",
       "      <td>...</td>\n",
       "      <td>...</td>\n",
       "      <td>...</td>\n",
       "      <td>...</td>\n",
       "    </tr>\n",
       "    <tr>\n",
       "      <th>1022</th>\n",
       "      <td>1029</td>\n",
       "      <td>Eternatus</td>\n",
       "      <td>890</td>\n",
       "      <td>Poison</td>\n",
       "      <td>Dragon</td>\n",
       "      <td>690</td>\n",
       "      <td>140</td>\n",
       "      <td>85</td>\n",
       "      <td>95</td>\n",
       "      <td>145</td>\n",
       "      <td>95</td>\n",
       "      <td>130</td>\n",
       "    </tr>\n",
       "    <tr>\n",
       "      <th>1023</th>\n",
       "      <td>1030</td>\n",
       "      <td>Eternatus</td>\n",
       "      <td>890</td>\n",
       "      <td>Poison</td>\n",
       "      <td>Dragon</td>\n",
       "      <td>1125</td>\n",
       "      <td>255</td>\n",
       "      <td>115</td>\n",
       "      <td>250</td>\n",
       "      <td>125</td>\n",
       "      <td>250</td>\n",
       "      <td>130</td>\n",
       "    </tr>\n",
       "    <tr>\n",
       "      <th>1025</th>\n",
       "      <td>1032</td>\n",
       "      <td>Urshifu</td>\n",
       "      <td>892</td>\n",
       "      <td>Fighting</td>\n",
       "      <td>Dark</td>\n",
       "      <td>550</td>\n",
       "      <td>100</td>\n",
       "      <td>130</td>\n",
       "      <td>100</td>\n",
       "      <td>63</td>\n",
       "      <td>60</td>\n",
       "      <td>97</td>\n",
       "    </tr>\n",
       "    <tr>\n",
       "      <th>1026</th>\n",
       "      <td>1033</td>\n",
       "      <td>Urshifu</td>\n",
       "      <td>892</td>\n",
       "      <td>Fighting</td>\n",
       "      <td>Water</td>\n",
       "      <td>550</td>\n",
       "      <td>100</td>\n",
       "      <td>130</td>\n",
       "      <td>100</td>\n",
       "      <td>63</td>\n",
       "      <td>60</td>\n",
       "      <td>97</td>\n",
       "    </tr>\n",
       "    <tr>\n",
       "      <th>1027</th>\n",
       "      <td>1034</td>\n",
       "      <td>Zarude</td>\n",
       "      <td>893</td>\n",
       "      <td>Dark</td>\n",
       "      <td>Grass</td>\n",
       "      <td>600</td>\n",
       "      <td>105</td>\n",
       "      <td>120</td>\n",
       "      <td>105</td>\n",
       "      <td>70</td>\n",
       "      <td>95</td>\n",
       "      <td>105</td>\n",
       "    </tr>\n",
       "  </tbody>\n",
       "</table>\n",
       "<p>543 rows × 12 columns</p>\n",
       "</div>"
      ],
      "text/plain": [
       "      Unnamed: 0    Pokemon  Ndex     Type1   Type2  Total   Hp  Attack  \\\n",
       "0              1  Bulbasaur     1     Grass  Poison    318   45      49   \n",
       "1              2    Ivysaur     2     Grass  Poison    405   60      62   \n",
       "2              3   Venusaur     3     Grass  Poison    525   80      82   \n",
       "3              4   Venusaur     3     Grass  Poison    625   80     100   \n",
       "6              7  Charizard     6      Fire  Flying    534   78      84   \n",
       "...          ...        ...   ...       ...     ...    ...  ...     ...   \n",
       "1022        1029  Eternatus   890    Poison  Dragon    690  140      85   \n",
       "1023        1030  Eternatus   890    Poison  Dragon   1125  255     115   \n",
       "1025        1032    Urshifu   892  Fighting    Dark    550  100     130   \n",
       "1026        1033    Urshifu   892  Fighting   Water    550  100     130   \n",
       "1027        1034     Zarude   893      Dark   Grass    600  105     120   \n",
       "\n",
       "      Defense  Special Attack  Special Defense  Speed  \n",
       "0          49              65               65     45  \n",
       "1          63              80               80     60  \n",
       "2          83             100              100     80  \n",
       "3         123             122              120     80  \n",
       "6          78             109               85    100  \n",
       "...       ...             ...              ...    ...  \n",
       "1022       95             145               95    130  \n",
       "1023      250             125              250    130  \n",
       "1025      100              63               60     97  \n",
       "1026      100              63               60     97  \n",
       "1027      105              70               95    105  \n",
       "\n",
       "[543 rows x 12 columns]"
      ]
     },
     "execution_count": 43,
     "metadata": {},
     "output_type": "execute_result"
    }
   ],
   "source": [
    "clean_data"
   ]
  }
 ],
 "metadata": {
  "kernelspec": {
   "display_name": "Python 3",
   "language": "python",
   "name": "python3"
  },
  "language_info": {
   "codemirror_mode": {
    "name": "ipython",
    "version": 3
   },
   "file_extension": ".py",
   "mimetype": "text/x-python",
   "name": "python",
   "nbconvert_exporter": "python",
   "pygments_lexer": "ipython3",
   "version": "3.12.1"
  }
 },
 "nbformat": 4,
 "nbformat_minor": 5
}
