{
 "cells": [
  {
   "cell_type": "markdown",
   "id": "47fa14a1",
   "metadata": {},
   "source": [
    "### QUESTIONS:\n",
    "1. Predict whether or not a pokemon is a legendary by ulitizing the Total column. (k-Nearest Neighbor)\n",
    "2. Predict the attack of a pokemon given its defense. (Linear Regression)"
   ]
  },
  {
   "cell_type": "markdown",
   "id": "70943248",
   "metadata": {},
   "source": [
    "### CODE"
   ]
  },
  {
   "cell_type": "code",
   "execution_count": 200,
   "id": "bf3b5953",
   "metadata": {},
   "outputs": [],
   "source": [
    "import numpy as np\n",
    "import pandas as pd\n",
    "\n",
    "from sklearn.model_selection import train_test_split\n",
    "from sklearn.linear_model import LinearRegression\n",
    "from sklearn.neighbors import KNeighborsClassifier\n",
    "\n",
    "from sklearn.preprocessing import LabelEncoder\n",
    "\n",
    "from sklearn.metrics import mean_squared_error, mean_absolute_error\n",
    "from sklearn.model_selection import cross_val_score\n",
    "from sklearn.model_selection import KFold\n",
    "\n",
    "import matplotlib.pyplot as plt\n",
    "\n",
    "from sklearn.preprocessing import PolynomialFeatures\n",
    "from sklearn.linear_model import LogisticRegression\n",
    "from sklearn.preprocessing import StandardScaler"
   ]
  },
  {
   "cell_type": "markdown",
   "id": "c9fc28e9",
   "metadata": {},
   "source": [
    "The following code loads in the Pokemon CSV file and cleans up its data. The steps I have used to clean the data are to first fill in the Type 2 column blank values with \"None\" and then delete all rows with a missing value."
   ]
  },
  {
   "cell_type": "code",
   "execution_count": 201,
   "id": "a8e659a7",
   "metadata": {},
   "outputs": [
    {
     "data": {
      "text/html": [
       "<div>\n",
       "<style scoped>\n",
       "    .dataframe tbody tr th:only-of-type {\n",
       "        vertical-align: middle;\n",
       "    }\n",
       "\n",
       "    .dataframe tbody tr th {\n",
       "        vertical-align: top;\n",
       "    }\n",
       "\n",
       "    .dataframe thead th {\n",
       "        text-align: right;\n",
       "    }\n",
       "</style>\n",
       "<table border=\"1\" class=\"dataframe\">\n",
       "  <thead>\n",
       "    <tr style=\"text-align: right;\">\n",
       "      <th></th>\n",
       "      <th>#</th>\n",
       "      <th>Name</th>\n",
       "      <th>Type 1</th>\n",
       "      <th>Type 2</th>\n",
       "      <th>Total</th>\n",
       "      <th>HP</th>\n",
       "      <th>Attack</th>\n",
       "      <th>Defense</th>\n",
       "      <th>Sp. Atk</th>\n",
       "      <th>Sp. Def</th>\n",
       "      <th>Speed</th>\n",
       "      <th>Generation</th>\n",
       "      <th>Legendary</th>\n",
       "    </tr>\n",
       "  </thead>\n",
       "  <tbody>\n",
       "    <tr>\n",
       "      <th>0</th>\n",
       "      <td>1</td>\n",
       "      <td>Bulbasaur</td>\n",
       "      <td>Grass</td>\n",
       "      <td>Poison</td>\n",
       "      <td>318</td>\n",
       "      <td>45</td>\n",
       "      <td>49</td>\n",
       "      <td>49</td>\n",
       "      <td>65</td>\n",
       "      <td>65</td>\n",
       "      <td>45</td>\n",
       "      <td>1</td>\n",
       "      <td>False</td>\n",
       "    </tr>\n",
       "    <tr>\n",
       "      <th>1</th>\n",
       "      <td>2</td>\n",
       "      <td>Ivysaur</td>\n",
       "      <td>Grass</td>\n",
       "      <td>Poison</td>\n",
       "      <td>405</td>\n",
       "      <td>60</td>\n",
       "      <td>62</td>\n",
       "      <td>63</td>\n",
       "      <td>80</td>\n",
       "      <td>80</td>\n",
       "      <td>60</td>\n",
       "      <td>1</td>\n",
       "      <td>False</td>\n",
       "    </tr>\n",
       "    <tr>\n",
       "      <th>2</th>\n",
       "      <td>3</td>\n",
       "      <td>Venusaur</td>\n",
       "      <td>Grass</td>\n",
       "      <td>Poison</td>\n",
       "      <td>525</td>\n",
       "      <td>80</td>\n",
       "      <td>82</td>\n",
       "      <td>83</td>\n",
       "      <td>100</td>\n",
       "      <td>100</td>\n",
       "      <td>80</td>\n",
       "      <td>1</td>\n",
       "      <td>False</td>\n",
       "    </tr>\n",
       "    <tr>\n",
       "      <th>3</th>\n",
       "      <td>3</td>\n",
       "      <td>VenusaurMega Venusaur</td>\n",
       "      <td>Grass</td>\n",
       "      <td>Poison</td>\n",
       "      <td>625</td>\n",
       "      <td>80</td>\n",
       "      <td>100</td>\n",
       "      <td>123</td>\n",
       "      <td>122</td>\n",
       "      <td>120</td>\n",
       "      <td>80</td>\n",
       "      <td>1</td>\n",
       "      <td>False</td>\n",
       "    </tr>\n",
       "    <tr>\n",
       "      <th>4</th>\n",
       "      <td>4</td>\n",
       "      <td>Charmander</td>\n",
       "      <td>Fire</td>\n",
       "      <td>None</td>\n",
       "      <td>309</td>\n",
       "      <td>39</td>\n",
       "      <td>52</td>\n",
       "      <td>43</td>\n",
       "      <td>60</td>\n",
       "      <td>50</td>\n",
       "      <td>65</td>\n",
       "      <td>1</td>\n",
       "      <td>False</td>\n",
       "    </tr>\n",
       "    <tr>\n",
       "      <th>...</th>\n",
       "      <td>...</td>\n",
       "      <td>...</td>\n",
       "      <td>...</td>\n",
       "      <td>...</td>\n",
       "      <td>...</td>\n",
       "      <td>...</td>\n",
       "      <td>...</td>\n",
       "      <td>...</td>\n",
       "      <td>...</td>\n",
       "      <td>...</td>\n",
       "      <td>...</td>\n",
       "      <td>...</td>\n",
       "      <td>...</td>\n",
       "    </tr>\n",
       "    <tr>\n",
       "      <th>795</th>\n",
       "      <td>719</td>\n",
       "      <td>Diancie</td>\n",
       "      <td>Rock</td>\n",
       "      <td>Fairy</td>\n",
       "      <td>600</td>\n",
       "      <td>50</td>\n",
       "      <td>100</td>\n",
       "      <td>150</td>\n",
       "      <td>100</td>\n",
       "      <td>150</td>\n",
       "      <td>50</td>\n",
       "      <td>6</td>\n",
       "      <td>True</td>\n",
       "    </tr>\n",
       "    <tr>\n",
       "      <th>796</th>\n",
       "      <td>719</td>\n",
       "      <td>DiancieMega Diancie</td>\n",
       "      <td>Rock</td>\n",
       "      <td>Fairy</td>\n",
       "      <td>700</td>\n",
       "      <td>50</td>\n",
       "      <td>160</td>\n",
       "      <td>110</td>\n",
       "      <td>160</td>\n",
       "      <td>110</td>\n",
       "      <td>110</td>\n",
       "      <td>6</td>\n",
       "      <td>True</td>\n",
       "    </tr>\n",
       "    <tr>\n",
       "      <th>797</th>\n",
       "      <td>720</td>\n",
       "      <td>HoopaHoopa Confined</td>\n",
       "      <td>Psychic</td>\n",
       "      <td>Ghost</td>\n",
       "      <td>600</td>\n",
       "      <td>80</td>\n",
       "      <td>110</td>\n",
       "      <td>60</td>\n",
       "      <td>150</td>\n",
       "      <td>130</td>\n",
       "      <td>70</td>\n",
       "      <td>6</td>\n",
       "      <td>True</td>\n",
       "    </tr>\n",
       "    <tr>\n",
       "      <th>798</th>\n",
       "      <td>720</td>\n",
       "      <td>HoopaHoopa Unbound</td>\n",
       "      <td>Psychic</td>\n",
       "      <td>Dark</td>\n",
       "      <td>680</td>\n",
       "      <td>80</td>\n",
       "      <td>160</td>\n",
       "      <td>60</td>\n",
       "      <td>170</td>\n",
       "      <td>130</td>\n",
       "      <td>80</td>\n",
       "      <td>6</td>\n",
       "      <td>True</td>\n",
       "    </tr>\n",
       "    <tr>\n",
       "      <th>799</th>\n",
       "      <td>721</td>\n",
       "      <td>Volcanion</td>\n",
       "      <td>Fire</td>\n",
       "      <td>Water</td>\n",
       "      <td>600</td>\n",
       "      <td>80</td>\n",
       "      <td>110</td>\n",
       "      <td>120</td>\n",
       "      <td>130</td>\n",
       "      <td>90</td>\n",
       "      <td>70</td>\n",
       "      <td>6</td>\n",
       "      <td>True</td>\n",
       "    </tr>\n",
       "  </tbody>\n",
       "</table>\n",
       "<p>800 rows × 13 columns</p>\n",
       "</div>"
      ],
      "text/plain": [
       "       #                   Name   Type 1  Type 2  Total  HP  Attack  Defense  \\\n",
       "0      1              Bulbasaur    Grass  Poison    318  45      49       49   \n",
       "1      2                Ivysaur    Grass  Poison    405  60      62       63   \n",
       "2      3               Venusaur    Grass  Poison    525  80      82       83   \n",
       "3      3  VenusaurMega Venusaur    Grass  Poison    625  80     100      123   \n",
       "4      4             Charmander     Fire    None    309  39      52       43   \n",
       "..   ...                    ...      ...     ...    ...  ..     ...      ...   \n",
       "795  719                Diancie     Rock   Fairy    600  50     100      150   \n",
       "796  719    DiancieMega Diancie     Rock   Fairy    700  50     160      110   \n",
       "797  720    HoopaHoopa Confined  Psychic   Ghost    600  80     110       60   \n",
       "798  720     HoopaHoopa Unbound  Psychic    Dark    680  80     160       60   \n",
       "799  721              Volcanion     Fire   Water    600  80     110      120   \n",
       "\n",
       "     Sp. Atk  Sp. Def  Speed  Generation  Legendary  \n",
       "0         65       65     45           1      False  \n",
       "1         80       80     60           1      False  \n",
       "2        100      100     80           1      False  \n",
       "3        122      120     80           1      False  \n",
       "4         60       50     65           1      False  \n",
       "..       ...      ...    ...         ...        ...  \n",
       "795      100      150     50           6       True  \n",
       "796      160      110    110           6       True  \n",
       "797      150      130     70           6       True  \n",
       "798      170      130     80           6       True  \n",
       "799      130       90     70           6       True  \n",
       "\n",
       "[800 rows x 13 columns]"
      ]
     },
     "execution_count": 201,
     "metadata": {},
     "output_type": "execute_result"
    }
   ],
   "source": [
    "dataframe = pd.read_csv('Datasets/Pokemon.csv')\n",
    "dataframe[\"Type 2\"] = dataframe[\"Type 2\"].fillna(\"None\")\n",
    "dataframe = dataframe.dropna(axis=0, inplace=False)\n",
    "dataframe"
   ]
  },
  {
   "cell_type": "markdown",
   "id": "c2d4dff4",
   "metadata": {},
   "source": [
    "#### CLASSIFICATION QUESTION (Prediction) 1\n",
    "1. Given a Pokemon's sum of their HP, Attack, Defense, Sp. Attack, Sp. Defense, and Speed (Total column), can we predict whether or not they are legendary? (k-Nearest Neighbor)\n",
    "\n",
    "- Feature: *Total Column Variable* which is the sum of a specific Pokemon's HP, Attack, Defense, Sp. Attack, Sp. Defense, and Speed\n",
    "\n",
    "- Dependent Variable: *Legendary* which is a boolean value determining whether or not the Pokemon is a legendary"
   ]
  },
  {
   "cell_type": "code",
   "execution_count": 242,
   "id": "53d54087",
   "metadata": {},
   "outputs": [
    {
     "name": "stderr",
     "output_type": "stream",
     "text": [
      "/home/codespace/.local/lib/python3.12/site-packages/sklearn/preprocessing/_label.py:110: DataConversionWarning: A column-vector y was passed when a 1d array was expected. Please change the shape of y to (n_samples, ), for example using ravel().\n",
      "  y = column_or_1d(y, warn=True)\n"
     ]
    }
   ],
   "source": [
    "x = dataframe[['Total']]\n",
    "y = dataframe[['Legendary']]\n",
    "\n",
    "x_train, x_test, y_train, y_test = train_test_split(x, y, test_size=0.3, random_state=42)\n",
    "x_val, x_test, y_val, y_test = train_test_split(x_test, y_test, test_size=0.33, random_state=42)\n",
    "\n",
    "le = LabelEncoder()\n",
    "y_train_encoded = le.fit_transform(y_train)"
   ]
  },
  {
   "cell_type": "code",
   "execution_count": 239,
   "id": "2dc0fad8",
   "metadata": {},
   "outputs": [
    {
     "data": {
      "text/plain": [
       "0.9589285714285715"
      ]
     },
     "execution_count": 239,
     "metadata": {},
     "output_type": "execute_result"
    }
   ],
   "source": [
    "model = KNeighborsClassifier(n_neighbors=3)\n",
    "model.fit(x_train, y_train_encoded)\n",
    "model.score(x_train, y_train_encoded)"
   ]
  },
  {
   "cell_type": "code",
   "execution_count": 248,
   "id": "e93d3c65",
   "metadata": {},
   "outputs": [
    {
     "name": "stderr",
     "output_type": "stream",
     "text": [
      "/home/codespace/.local/lib/python3.12/site-packages/sklearn/utils/validation.py:2749: UserWarning: X does not have valid feature names, but KNeighborsClassifier was fitted with feature names\n",
      "  warnings.warn(\n"
     ]
    },
    {
     "data": {
      "text/plain": [
       "True"
      ]
     },
     "execution_count": 248,
     "metadata": {},
     "output_type": "execute_result"
    }
   ],
   "source": [
    "bool(model.predict([[680]])[0])"
   ]
  },
  {
   "cell_type": "markdown",
   "id": "1edbbe4d",
   "metadata": {},
   "source": [
    "#### REGRESSION QUESTION (Prediction) 2\n",
    "2. Given the Defennse stat of a Pokemon, can we predict the Attack power? (Linear Regression)\n",
    "\n",
    "- Feature: *Defense* Stat of the Pokemon\n",
    "\n",
    "- Dependent Variable: *Attack* Stat of the Pokemon"
   ]
  },
  {
   "cell_type": "code",
   "execution_count": 205,
   "id": "2c6a1617",
   "metadata": {},
   "outputs": [],
   "source": [
    "x = dataframe[['Defense']]\n",
    "y = dataframe[['Attack']]\n",
    "\n",
    "x_train, x_test, y_train, y_test = train_test_split(x, y, test_size=0.3, random_state=42)\n",
    "x_val, x_test, y_val, y_test = train_test_split(x_test, y_test, test_size=0.33, random_state=42)"
   ]
  },
  {
   "cell_type": "code",
   "execution_count": 206,
   "id": "6df47376",
   "metadata": {},
   "outputs": [
    {
     "data": {
      "text/plain": [
       "0.19268339365792075"
      ]
     },
     "execution_count": 206,
     "metadata": {},
     "output_type": "execute_result"
    }
   ],
   "source": [
    "model = LinearRegression()\n",
    "model.fit(x_train, y_train)\n",
    "model.score(x_train, y_train)"
   ]
  },
  {
   "cell_type": "markdown",
   "id": "d99abb8b",
   "metadata": {},
   "source": [
    "**Journal Entry:** The above was the standard code for my required Linear Regression model that analyzes the correlation between the defense and attack powers of Pokemon. Given that my r^2 value was absolutely horrendous (0.193), I wanted to visualize the dataset and look using my own human eyes to see if I could figure out what the correlation between the data would be (shown in the figure resulting from the code below). It looks very linear, but it can also be noted that there are still plenty of outliers. My next steps are to filter through the data even more and remove the outliers."
   ]
  },
  {
   "cell_type": "code",
   "execution_count": 207,
   "id": "468c569e",
   "metadata": {},
   "outputs": [
    {
     "data": {
      "image/png": "[encoded data removed]",
      "text/plain": [
       "<Figure size 640x480 with 1 Axes>"
      ]
     },
     "metadata": {},
     "output_type": "display_data"
    }
   ],
   "source": [
    "fig = plt.figure()\n",
    "ax = fig.add_subplot(1, 1, 1)\n",
    "ax.scatter(x, y)\n",
    "ax.set_xlabel('Defense')\n",
    "ax.set_ylabel('Attack')\n",
    "ax.set_title('Attack vs Defense')\n",
    "plt.show()"
   ]
  },
  {
   "cell_type": "markdown",
   "id": "ef8cf46e",
   "metadata": {},
   "source": [
    "**Journal Entry:** The following is the newly evaluated code to remove the outliers and see what the result is."
   ]
  },
  {
   "cell_type": "code",
   "execution_count": 208,
   "id": "8678a00b",
   "metadata": {},
   "outputs": [],
   "source": [
    "Q1_def = dataframe['Defense'].quantile(0.25)\n",
    "Q3_def = dataframe['Defense'].quantile(0.75)\n",
    "IQR_def = Q3_def - Q1_def\n",
    "lower_def = Q1_def - 1.5 * IQR_def\n",
    "upper_def = Q3_def + 1.5 * IQR_def\n",
    "\n",
    "Q1_att = dataframe['Attack'].quantile(0.25)\n",
    "Q3_att = dataframe['Attack'].quantile(0.75)\n",
    "IQR_att = Q3_att - Q1_att\n",
    "lower_att = Q1_att - 1.5 * IQR_att\n",
    "upper_att = Q3_att + 1.5 * IQR_att\n",
    "\n",
    "dataframe_no_outliers = dataframe[\n",
    "    (dataframe['Defense'] >= lower_def) & (dataframe['Defense'] <= upper_def) &\n",
    "    (dataframe['Attack'] >= lower_att) & (dataframe['Attack'] <= upper_att)\n",
    "]"
   ]
  },
  {
   "cell_type": "code",
   "execution_count": 209,
   "id": "8451aea6",
   "metadata": {},
   "outputs": [],
   "source": [
    "x = dataframe_no_outliers[['Defense']]\n",
    "y = dataframe_no_outliers[['Attack']]\n",
    "\n",
    "x_train, x_test, y_train, y_test = train_test_split(x, y, test_size=0.3, random_state=42)\n",
    "x_val, x_test, y_val, y_test = train_test_split(x_test, y_test, test_size=0.33, random_state=42)"
   ]
  },
  {
   "cell_type": "code",
   "execution_count": 210,
   "id": "08594651",
   "metadata": {},
   "outputs": [
    {
     "data": {
      "text/html": [
       "<div>\n",
       "<style scoped>\n",
       "    .dataframe tbody tr th:only-of-type {\n",
       "        vertical-align: middle;\n",
       "    }\n",
       "\n",
       "    .dataframe tbody tr th {\n",
       "        vertical-align: top;\n",
       "    }\n",
       "\n",
       "    .dataframe thead th {\n",
       "        text-align: right;\n",
       "    }\n",
       "</style>\n",
       "<table border=\"1\" class=\"dataframe\">\n",
       "  <thead>\n",
       "    <tr style=\"text-align: right;\">\n",
       "      <th></th>\n",
       "      <th>#</th>\n",
       "      <th>Name</th>\n",
       "      <th>Type 1</th>\n",
       "      <th>Type 2</th>\n",
       "      <th>Total</th>\n",
       "      <th>HP</th>\n",
       "      <th>Attack</th>\n",
       "      <th>Defense</th>\n",
       "      <th>Sp. Atk</th>\n",
       "      <th>Sp. Def</th>\n",
       "      <th>Speed</th>\n",
       "      <th>Generation</th>\n",
       "      <th>Legendary</th>\n",
       "    </tr>\n",
       "  </thead>\n",
       "  <tbody>\n",
       "    <tr>\n",
       "      <th>0</th>\n",
       "      <td>1</td>\n",
       "      <td>Bulbasaur</td>\n",
       "      <td>Grass</td>\n",
       "      <td>Poison</td>\n",
       "      <td>318</td>\n",
       "      <td>45</td>\n",
       "      <td>49</td>\n",
       "      <td>49</td>\n",
       "      <td>65</td>\n",
       "      <td>65</td>\n",
       "      <td>45</td>\n",
       "      <td>1</td>\n",
       "      <td>False</td>\n",
       "    </tr>\n",
       "    <tr>\n",
       "      <th>1</th>\n",
       "      <td>2</td>\n",
       "      <td>Ivysaur</td>\n",
       "      <td>Grass</td>\n",
       "      <td>Poison</td>\n",
       "      <td>405</td>\n",
       "      <td>60</td>\n",
       "      <td>62</td>\n",
       "      <td>63</td>\n",
       "      <td>80</td>\n",
       "      <td>80</td>\n",
       "      <td>60</td>\n",
       "      <td>1</td>\n",
       "      <td>False</td>\n",
       "    </tr>\n",
       "    <tr>\n",
       "      <th>2</th>\n",
       "      <td>3</td>\n",
       "      <td>Venusaur</td>\n",
       "      <td>Grass</td>\n",
       "      <td>Poison</td>\n",
       "      <td>525</td>\n",
       "      <td>80</td>\n",
       "      <td>82</td>\n",
       "      <td>83</td>\n",
       "      <td>100</td>\n",
       "      <td>100</td>\n",
       "      <td>80</td>\n",
       "      <td>1</td>\n",
       "      <td>False</td>\n",
       "    </tr>\n",
       "    <tr>\n",
       "      <th>3</th>\n",
       "      <td>3</td>\n",
       "      <td>VenusaurMega Venusaur</td>\n",
       "      <td>Grass</td>\n",
       "      <td>Poison</td>\n",
       "      <td>625</td>\n",
       "      <td>80</td>\n",
       "      <td>100</td>\n",
       "      <td>123</td>\n",
       "      <td>122</td>\n",
       "      <td>120</td>\n",
       "      <td>80</td>\n",
       "      <td>1</td>\n",
       "      <td>False</td>\n",
       "    </tr>\n",
       "    <tr>\n",
       "      <th>4</th>\n",
       "      <td>4</td>\n",
       "      <td>Charmander</td>\n",
       "      <td>Fire</td>\n",
       "      <td>None</td>\n",
       "      <td>309</td>\n",
       "      <td>39</td>\n",
       "      <td>52</td>\n",
       "      <td>43</td>\n",
       "      <td>60</td>\n",
       "      <td>50</td>\n",
       "      <td>65</td>\n",
       "      <td>1</td>\n",
       "      <td>False</td>\n",
       "    </tr>\n",
       "    <tr>\n",
       "      <th>...</th>\n",
       "      <td>...</td>\n",
       "      <td>...</td>\n",
       "      <td>...</td>\n",
       "      <td>...</td>\n",
       "      <td>...</td>\n",
       "      <td>...</td>\n",
       "      <td>...</td>\n",
       "      <td>...</td>\n",
       "      <td>...</td>\n",
       "      <td>...</td>\n",
       "      <td>...</td>\n",
       "      <td>...</td>\n",
       "      <td>...</td>\n",
       "    </tr>\n",
       "    <tr>\n",
       "      <th>795</th>\n",
       "      <td>719</td>\n",
       "      <td>Diancie</td>\n",
       "      <td>Rock</td>\n",
       "      <td>Fairy</td>\n",
       "      <td>600</td>\n",
       "      <td>50</td>\n",
       "      <td>100</td>\n",
       "      <td>150</td>\n",
       "      <td>100</td>\n",
       "      <td>150</td>\n",
       "      <td>50</td>\n",
       "      <td>6</td>\n",
       "      <td>True</td>\n",
       "    </tr>\n",
       "    <tr>\n",
       "      <th>796</th>\n",
       "      <td>719</td>\n",
       "      <td>DiancieMega Diancie</td>\n",
       "      <td>Rock</td>\n",
       "      <td>Fairy</td>\n",
       "      <td>700</td>\n",
       "      <td>50</td>\n",
       "      <td>160</td>\n",
       "      <td>110</td>\n",
       "      <td>160</td>\n",
       "      <td>110</td>\n",
       "      <td>110</td>\n",
       "      <td>6</td>\n",
       "      <td>True</td>\n",
       "    </tr>\n",
       "    <tr>\n",
       "      <th>797</th>\n",
       "      <td>720</td>\n",
       "      <td>HoopaHoopa Confined</td>\n",
       "      <td>Psychic</td>\n",
       "      <td>Ghost</td>\n",
       "      <td>600</td>\n",
       "      <td>80</td>\n",
       "      <td>110</td>\n",
       "      <td>60</td>\n",
       "      <td>150</td>\n",
       "      <td>130</td>\n",
       "      <td>70</td>\n",
       "      <td>6</td>\n",
       "      <td>True</td>\n",
       "    </tr>\n",
       "    <tr>\n",
       "      <th>798</th>\n",
       "      <td>720</td>\n",
       "      <td>HoopaHoopa Unbound</td>\n",
       "      <td>Psychic</td>\n",
       "      <td>Dark</td>\n",
       "      <td>680</td>\n",
       "      <td>80</td>\n",
       "      <td>160</td>\n",
       "      <td>60</td>\n",
       "      <td>170</td>\n",
       "      <td>130</td>\n",
       "      <td>80</td>\n",
       "      <td>6</td>\n",
       "      <td>True</td>\n",
       "    </tr>\n",
       "    <tr>\n",
       "      <th>799</th>\n",
       "      <td>721</td>\n",
       "      <td>Volcanion</td>\n",
       "      <td>Fire</td>\n",
       "      <td>Water</td>\n",
       "      <td>600</td>\n",
       "      <td>80</td>\n",
       "      <td>110</td>\n",
       "      <td>120</td>\n",
       "      <td>130</td>\n",
       "      <td>90</td>\n",
       "      <td>70</td>\n",
       "      <td>6</td>\n",
       "      <td>True</td>\n",
       "    </tr>\n",
       "  </tbody>\n",
       "</table>\n",
       "<p>781 rows × 13 columns</p>\n",
       "</div>"
      ],
      "text/plain": [
       "       #                   Name   Type 1  Type 2  Total  HP  Attack  Defense  \\\n",
       "0      1              Bulbasaur    Grass  Poison    318  45      49       49   \n",
       "1      2                Ivysaur    Grass  Poison    405  60      62       63   \n",
       "2      3               Venusaur    Grass  Poison    525  80      82       83   \n",
       "3      3  VenusaurMega Venusaur    Grass  Poison    625  80     100      123   \n",
       "4      4             Charmander     Fire    None    309  39      52       43   \n",
       "..   ...                    ...      ...     ...    ...  ..     ...      ...   \n",
       "795  719                Diancie     Rock   Fairy    600  50     100      150   \n",
       "796  719    DiancieMega Diancie     Rock   Fairy    700  50     160      110   \n",
       "797  720    HoopaHoopa Confined  Psychic   Ghost    600  80     110       60   \n",
       "798  720     HoopaHoopa Unbound  Psychic    Dark    680  80     160       60   \n",
       "799  721              Volcanion     Fire   Water    600  80     110      120   \n",
       "\n",
       "     Sp. Atk  Sp. Def  Speed  Generation  Legendary  \n",
       "0         65       65     45           1      False  \n",
       "1         80       80     60           1      False  \n",
       "2        100      100     80           1      False  \n",
       "3        122      120     80           1      False  \n",
       "4         60       50     65           1      False  \n",
       "..       ...      ...    ...         ...        ...  \n",
       "795      100      150     50           6       True  \n",
       "796      160      110    110           6       True  \n",
       "797      150      130     70           6       True  \n",
       "798      170      130     80           6       True  \n",
       "799      130       90     70           6       True  \n",
       "\n",
       "[781 rows x 13 columns]"
      ]
     },
     "execution_count": 210,
     "metadata": {},
     "output_type": "execute_result"
    }
   ],
   "source": [
    "dataframe_no_outliers"
   ]
  },
  {
   "cell_type": "code",
   "execution_count": 211,
   "id": "bf8aaae0",
   "metadata": {},
   "outputs": [
    {
     "data": {
      "text/plain": [
       "0.24058478155153495"
      ]
     },
     "execution_count": 211,
     "metadata": {},
     "output_type": "execute_result"
    }
   ],
   "source": [
    "model = LinearRegression()\n",
    "model.fit(x_train, y_train)\n",
    "model.score(x_train, y_train)"
   ]
  },
  {
   "cell_type": "code",
   "execution_count": 212,
   "id": "bbc270f8",
   "metadata": {},
   "outputs": [
    {
     "data": {
      "image/png": "[encoded data removed]",
      "text/plain": [
       "<Figure size 640x480 with 1 Axes>"
      ]
     },
     "metadata": {},
     "output_type": "display_data"
    }
   ],
   "source": [
    "fig = plt.figure()\n",
    "ax = fig.add_subplot(1, 1, 1)\n",
    "ax.scatter(x, y)\n",
    "ax.set_xlabel('Defense')\n",
    "ax.set_ylabel('Attack')\n",
    "ax.set_title('Attack vs Defense')\n",
    "plt.show()"
   ]
  },
  {
   "cell_type": "markdown",
   "id": "7021922e",
   "metadata": {},
   "source": [
    "**Journal Entry:** After removing the outliers from the data and still having such a low score (0.241), it became obvious to me that Linear Regression may not be the best algorithm to utilize in order to best find a correlation between the defense and attack. The next few cells of code are me switching models to a polynomial regression algorithm (which includes me trying to frantically change the degree and see if it fares any better)."
   ]
  },
  {
   "cell_type": "code",
   "execution_count": 213,
   "id": "2b2b8c97",
   "metadata": {},
   "outputs": [
    {
     "data": {
      "text/plain": [
       "0.278099927678624"
      ]
     },
     "execution_count": 213,
     "metadata": {},
     "output_type": "execute_result"
    }
   ],
   "source": [
    "poly = PolynomialFeatures(degree=2)\n",
    "x_train_poly = poly.fit_transform(x_train)\n",
    "\n",
    "model = LinearRegression()\n",
    "model.fit(x_train_poly, y_train)\n",
    "model.score(x_train_poly, y_train)"
   ]
  },
  {
   "cell_type": "markdown",
   "id": "55dd4198",
   "metadata": {},
   "source": [
    "**Journal Entry:** It was an endeavor with very little success (scores for many degrees were all around 0.279-ish). Polynomial Regression just was not working. I will now move on to trying out Logarithm Regressions, though, by looking at the data, I don't expect much more to come from the Logarithm Regression."
   ]
  },
  {
   "cell_type": "code",
   "execution_count": 214,
   "id": "c5a3c30a",
   "metadata": {},
   "outputs": [],
   "source": [
    "scaler = StandardScaler()\n",
    "x_train_scaled = scaler.fit_transform(x_train)"
   ]
  },
  {
   "cell_type": "code",
   "execution_count": 215,
   "id": "b6c875f7",
   "metadata": {},
   "outputs": [
    {
     "data": {
      "text/plain": [
       "0.07875457875457875"
      ]
     },
     "execution_count": 215,
     "metadata": {},
     "output_type": "execute_result"
    }
   ],
   "source": [
    "model = LogisticRegression()\n",
    "model.fit(x_train_scaled, y_train.values.ravel())\n",
    "model.score(x_train_scaled, y_train)"
   ]
  },
  {
   "cell_type": "code",
   "execution_count": 216,
   "id": "1f3f8d0a",
   "metadata": {},
   "outputs": [
    {
     "data": {
      "text/plain": [
       "0.26676837302306455"
      ]
     },
     "execution_count": 216,
     "metadata": {},
     "output_type": "execute_result"
    }
   ],
   "source": [
    "x_transformed = np.log(x)\n",
    "\n",
    "x_train, x_test, y_train, y_test = train_test_split(x_transformed, y, test_size=0.3, random_state=42)\n",
    "x_train, x_test, y_train, y_test = train_test_split(x_train, y_train, test_size=0.33, random_state=42)\n",
    "\n",
    "model = LinearRegression()\n",
    "model.fit(x_train, y_train)\n",
    "model.score(x_train, y_train)"
   ]
  },
  {
   "cell_type": "markdown",
   "id": "d218cd60",
   "metadata": {},
   "source": [
    "**Journal Entry:** Well that didn't work well...as expected! Below are a few more different models ChatGPT 5 recommended and coded, but when I tried to get it working, I faced little success. I have come to the conclusion that the feature and the dependent variable are not correlated and may not be predicted using these simpler (and I use this loosely) algorithms. In order to redeem myself, however, I will redo a lot of this code for another pair of (hopefully) correlating values."
   ]
  },
  {
   "cell_type": "markdown",
   "id": "b912eff5",
   "metadata": {},
   "source": [
    "##### Random Forest Regressor:"
   ]
  },
  {
   "cell_type": "code",
   "execution_count": 217,
   "id": "70752ef7",
   "metadata": {},
   "outputs": [
    {
     "name": "stdout",
     "output_type": "stream",
     "text": [
      "Validation R^2: 0.18387049363952546\n",
      "Test R^2: 0.3733124488143821\n"
     ]
    }
   ],
   "source": [
    "from sklearn.model_selection import train_test_split\n",
    "from sklearn.ensemble import RandomForestRegressor\n",
    "from sklearn.metrics import r2_score, mean_squared_error\n",
    "\n",
    "x = dataframe_no_outliers[[\"Defense\"]]   # feature\n",
    "y = dataframe_no_outliers[\"Attack\"]      # target\n",
    "\n",
    "x_train, x_test, y_train, y_test = train_test_split(x, y, test_size=0.3, random_state=42)\n",
    "x_val,  x_test, y_val,  y_test  = train_test_split(x_test, y_test, test_size=0.33, random_state=42)\n",
    "\n",
    "# Random Forest model\n",
    "model = RandomForestRegressor(n_estimators=300, random_state=42)\n",
    "model.fit(x_train, y_train)\n",
    "\n",
    "# Evaluate\n",
    "print(\"Validation R^2:\", model.score(x_val, y_val))\n",
    "print(\"Test R^2:\", model.score(x_train, y_train))\n"
   ]
  },
  {
   "cell_type": "markdown",
   "id": "226ca797",
   "metadata": {},
   "source": [
    "##### Decision Tree Regressor:"
   ]
  },
  {
   "cell_type": "code",
   "execution_count": 218,
   "id": "8e7d3e2b",
   "metadata": {},
   "outputs": [
    {
     "name": "stdout",
     "output_type": "stream",
     "text": [
      "Validation R^2: 0.15673092563232638\n",
      "Test R^2: 0.3336654431067291\n"
     ]
    }
   ],
   "source": [
    "from sklearn.model_selection import train_test_split\n",
    "from sklearn.tree import DecisionTreeRegressor\n",
    "from sklearn.metrics import r2_score, mean_squared_error\n",
    "\n",
    "# 1) Features and target\n",
    "X = dataframe_no_outliers[[\"Defense\"]]     # predictor\n",
    "y = dataframe_no_outliers[\"Attack\"]        # target\n",
    "\n",
    "# 2) Split into train / val / test\n",
    "x_train, x_test, y_train, y_test = train_test_split(X, y, test_size=0.30, random_state=42)\n",
    "x_val,  x_test, y_val,  y_test  = train_test_split(x_test, y_test, test_size=0.33, random_state=42)\n",
    "\n",
    "# 3) Create Decision Tree model\n",
    "model = DecisionTreeRegressor(\n",
    "    max_depth=6,          # limit depth (prevents overfitting)\n",
    "    min_samples_leaf=5,   # require at least 5 samples per leaf\n",
    "    random_state=42\n",
    ")\n",
    "\n",
    "# 4) Fit the model\n",
    "model.fit(x_train, y_train)\n",
    "\n",
    "# 5) Evaluate\n",
    "print(\"Validation R^2:\", model.score(x_val, y_val))\n",
    "print(\"Test R^2:\",       model.score(x_train, y_train))\n"
   ]
  },
  {
   "cell_type": "markdown",
   "id": "9b45be3a",
   "metadata": {},
   "source": [
    "##### MLP Regression Neural Network:"
   ]
  },
  {
   "cell_type": "code",
   "execution_count": 219,
   "id": "f22412b9",
   "metadata": {},
   "outputs": [
    {
     "name": "stdout",
     "output_type": "stream",
     "text": [
      "Validation R^2: 0.24549771475843807\n",
      "Test R^2: 0.2639675566916887\n"
     ]
    }
   ],
   "source": [
    "from sklearn.model_selection import train_test_split\n",
    "from sklearn.neural_network import MLPRegressor\n",
    "from sklearn.pipeline import make_pipeline\n",
    "from sklearn.preprocessing import StandardScaler\n",
    "from sklearn.metrics import r2_score, mean_squared_error\n",
    "\n",
    "# 1) Features and target\n",
    "X = dataframe_no_outliers[[\"Defense\"]]   # predictor\n",
    "y = dataframe_no_outliers[\"Attack\"]      # target\n",
    "\n",
    "# 2) Train / Val / Test split\n",
    "x_train, x_test, y_train, y_test = train_test_split(X, y, test_size=0.30, random_state=42)\n",
    "x_val,  x_test, y_val,  y_test  = train_test_split(x_test, y_test, test_size=0.33, random_state=42)\n",
    "\n",
    "# 3) Build pipeline: scale data -> feed to MLP\n",
    "model = make_pipeline(\n",
    "    StandardScaler(),   # scaling is VERY important for neural nets\n",
    "    MLPRegressor(\n",
    "        hidden_layer_sizes=(64, 32),  # 2 hidden layers (64 → 32 neurons)\n",
    "        activation=\"relu\",            # standard non-linear activation\n",
    "        solver=\"adam\",                # robust optimizer\n",
    "        learning_rate=\"adaptive\",     # shrink learning rate when training stalls\n",
    "        max_iter=500,                 # max training epochs\n",
    "        early_stopping=True,          # stop if val score stops improving\n",
    "        n_iter_no_change=20,          # patience\n",
    "        random_state=42\n",
    "    )\n",
    ")\n",
    "\n",
    "# 4) Fit model\n",
    "model.fit(x_train, y_train)\n",
    "\n",
    "# 5) Evaluate\n",
    "print(\"Validation R^2:\", model.score(x_val, y_val))\n",
    "print(\"Test R^2:\",       model.score(x_train, y_train))\n"
   ]
  },
  {
   "cell_type": "markdown",
   "id": "cfbd1b05",
   "metadata": {},
   "source": [
    "**Journal Entry:** I am going to try revising my question a little bit to see if attack and the total correlate (given that the attack is a part of the total). Predict the attack of the Pokemon given the total."
   ]
  },
  {
   "cell_type": "code",
   "execution_count": 220,
   "id": "6a52a555",
   "metadata": {},
   "outputs": [],
   "source": [
    "Q1_def = dataframe['Total'].quantile(0.25)\n",
    "Q3_def = dataframe['Total'].quantile(0.75)\n",
    "IQR_def = Q3_def - Q1_def\n",
    "lower_def = Q1_def - 1.5 * IQR_def\n",
    "upper_def = Q3_def + 1.5 * IQR_def\n",
    "\n",
    "Q1_att = dataframe['Attack'].quantile(0.25)\n",
    "Q3_att = dataframe['Attack'].quantile(0.75)\n",
    "IQR_att = Q3_att - Q1_att\n",
    "lower_att = Q1_att - 1.5 * IQR_att\n",
    "upper_att = Q3_att + 1.5 * IQR_att\n",
    "\n",
    "dataframe_no_outliers = dataframe[\n",
    "    (dataframe['Total'] >= lower_def) & (dataframe['Total'] <= upper_def) &\n",
    "    (dataframe['Attack'] >= lower_att) & (dataframe['Attack'] <= upper_att)\n",
    "]"
   ]
  },
  {
   "cell_type": "code",
   "execution_count": 221,
   "id": "12c81a18",
   "metadata": {},
   "outputs": [],
   "source": [
    "x = dataframe_no_outliers[['Total']]\n",
    "y = dataframe_no_outliers[['Attack']]\n",
    "\n",
    "x_train, x_test, y_train, y_test = train_test_split(x, y, test_size=0.3, random_state=42)\n",
    "x_val, x_test, y_val, y_test = train_test_split(x_test, y_test, test_size=0.33, random_state=42)"
   ]
  },
  {
   "cell_type": "code",
   "execution_count": 222,
   "id": "bea1a995",
   "metadata": {},
   "outputs": [
    {
     "data": {
      "text/plain": [
       "0.5273976962095139"
      ]
     },
     "execution_count": 222,
     "metadata": {},
     "output_type": "execute_result"
    }
   ],
   "source": [
    "model = LinearRegression()\n",
    "model.fit(x_train, y_train)\n",
    "model.score(x_train, y_train)"
   ]
  },
  {
   "cell_type": "code",
   "execution_count": 223,
   "id": "feeff15e",
   "metadata": {},
   "outputs": [
    {
     "data": {
      "image/png": "[encoded data removed]",
      "text/plain": [
       "<Figure size 640x480 with 1 Axes>"
      ]
     },
     "metadata": {},
     "output_type": "display_data"
    }
   ],
   "source": [
    "fig = plt.figure()\n",
    "ax = fig.add_subplot(1, 1, 1)\n",
    "ax.scatter(x, y)\n",
    "ax.set_xlabel('Total')\n",
    "ax.set_ylabel('Attack')\n",
    "ax.set_title('Attack vs Total')\n",
    "plt.show()"
   ]
  },
  {
   "cell_type": "markdown",
   "id": "b7891ef1",
   "metadata": {},
   "source": [
    "**Journal Entry:** These 2 values appear to correlate much better than the previous 2 (r^2 = 0.527). I'd assume this is due to Attack being itself a part of the Total. This, however, uses the dataset with the outliers removed. I am curious as to see what happens if I were to use the dataset with only the original cleaning from the very beginning of the code."
   ]
  },
  {
   "cell_type": "code",
   "execution_count": 224,
   "id": "f829874a",
   "metadata": {},
   "outputs": [],
   "source": [
    "x = dataframe[['Total']]\n",
    "y = dataframe[['Attack']]\n",
    "\n",
    "x_train, x_test, y_train, y_test = train_test_split(x, y, test_size=0.3, random_state=42)\n",
    "x_val, x_test, y_val, y_test = train_test_split(x_test, y_test, test_size=0.33, random_state=42)"
   ]
  },
  {
   "cell_type": "code",
   "execution_count": 225,
   "id": "02012fe7",
   "metadata": {},
   "outputs": [
    {
     "data": {
      "text/plain": [
       "0.5325185948331481"
      ]
     },
     "execution_count": 225,
     "metadata": {},
     "output_type": "execute_result"
    }
   ],
   "source": [
    "model = LinearRegression()\n",
    "model.fit(x_train, y_train)\n",
    "model.score(x_train, y_train)"
   ]
  },
  {
   "cell_type": "markdown",
   "id": "cbffa72c",
   "metadata": {},
   "source": [
    "**Journal Entry:** I have decided to stick with not removing the outliers as it has a higher correlation coefficient value (0.533) than that of the previous. The thing is, just changing my question to \"Predict the attack of a pokemon given its total\" feels wrong for the very reason that attack is a part of total. I will keep this in my back pocket while continuing to move forward with my previous question. The below code is my further attempt with the previous question to limit the data even more (using types of pokemon) and get a correlation between Defense and Attack."
   ]
  },
  {
   "cell_type": "code",
   "execution_count": 226,
   "id": "1bde3efe",
   "metadata": {},
   "outputs": [],
   "source": [
    "dataframe_only_type = dataframe_no_outliers[dataframe_no_outliers['Type 1'] == 'Dragon']\n",
    "\n",
    "x = dataframe_only_type[['Defense']]\n",
    "y = dataframe_only_type[['Attack']]\n",
    "\n",
    "x_train, x_test, y_train, y_test = train_test_split(x, y, test_size=0.3, random_state=42)\n",
    "x_val, x_test, y_val, y_test = train_test_split(x_test, y_test, test_size=0.33, random_state=42)"
   ]
  },
  {
   "cell_type": "code",
   "execution_count": 227,
   "id": "f4ae8e75",
   "metadata": {},
   "outputs": [
    {
     "data": {
      "text/plain": [
       "0.26726045585221603"
      ]
     },
     "execution_count": 227,
     "metadata": {},
     "output_type": "execute_result"
    }
   ],
   "source": [
    "model = LinearRegression()\n",
    "model.fit(x_train, y_train)\n",
    "model.score(x_train, y_train)"
   ]
  },
  {
   "cell_type": "code",
   "execution_count": 228,
   "id": "115aaa71",
   "metadata": {},
   "outputs": [
    {
     "data": {
      "image/png": "[encoded data removed]",
      "text/plain": [
       "<Figure size 640x480 with 1 Axes>"
      ]
     },
     "metadata": {},
     "output_type": "display_data"
    }
   ],
   "source": [
    "fig = plt.figure()\n",
    "ax = fig.add_subplot(1, 1, 1)\n",
    "ax.scatter(x, y)\n",
    "ax.set_xlabel('Defense')\n",
    "ax.set_ylabel('Attack')\n",
    "ax.set_title('Defense vs Attack')\n",
    "plt.show()"
   ]
  },
  {
   "cell_type": "markdown",
   "id": "3673a3d4",
   "metadata": {},
   "source": [
    "**Journal Entry:** Even by limiting the data to specific types doesn't appear to universally help as when doing so for grass types, the r^2 value results in 0.267, which isn't bad compared to what it was; however, when comparing the defense and attack of rock types, the r^2 value is -0.098. I supposes this great variance in accuracy depending on the type is causing the overall score to be low when considering all types. Some types appear to have a correlation while others don't. This does make me curious as to which types are the best correlating and which are the worst."
   ]
  },
  {
   "cell_type": "code",
   "execution_count": 229,
   "id": "7a9f5fad",
   "metadata": {},
   "outputs": [
    {
     "name": "stdout",
     "output_type": "stream",
     "text": [
      "Grass r^2 value: 0.3498005196407399\n",
      "Fire r^2 value: 0.09017677414141423\n",
      "Water r^2 value: 0.24979773336289313\n",
      "Bug r^2 value: 0.05888375082445396\n",
      "Normal r^2 value: 0.5077149361743798\n",
      "Poison r^2 value: 0.17294206497556996\n",
      "Electric r^2 value: 0.15302158745010486\n",
      "Ground r^2 value: 0.24752031957331433\n",
      "Fairy r^2 value: 0.298581146080811\n",
      "Fighting r^2 value: 0.47485216817257514\n",
      "Psychic r^2 value: 0.24153639407921468\n",
      "Rock r^2 value: 2.796638626234582e-07\n",
      "Ghost r^2 value: 0.082328211303349\n",
      "Ice r^2 value: 0.42509949321959895\n",
      "Dragon r^2 value: 0.26726045585221603\n",
      "Dark r^2 value: 0.21381386580231332\n",
      "Steel r^2 value: 0.06483388677430835\n"
     ]
    }
   ],
   "source": [
    "types = ['Grass', 'Fire', 'Water', 'Bug', 'Normal', 'Poison', 'Electric', 'Ground', 'Fairy', 'Fighting', 'Psychic', 'Rock', 'Ghost', 'Ice', 'Dragon', 'Dark', 'Steel']\n",
    "for type in types:\n",
    "    dataframe_only_type = dataframe_no_outliers[dataframe_no_outliers['Type 1'] == type]\n",
    "\n",
    "    x = dataframe_only_type[['Defense']]\n",
    "    y = dataframe_only_type[['Attack']]\n",
    "\n",
    "    x_train, x_test, y_train, y_test = train_test_split(x, y, test_size=0.3, random_state=42)\n",
    "    x_val, x_test, y_val, y_test = train_test_split(x_test, y_test, test_size=0.33, random_state=42)\n",
    "\n",
    "    model = LinearRegression()\n",
    "    model.fit(x_train, y_train)\n",
    "    print(f\"{type} r^2 value: {model.score(x_train, y_train)}\")"
   ]
  },
  {
   "cell_type": "markdown",
   "id": "7af122fa",
   "metadata": {},
   "source": [
    "**Journal Entry:** Hello world, this appears to be my final journal entry. Having printed out the r^2 value for every Pokemon type, there is no type that truly does well. Having tried cutting out the outliers, various models, and limiting the data based upon the type of Pokemon, I was still not able to get the Regression models above an R^2 value of 0.55. Given all of this, I have deduced that there is no apparent correlation between defense and attack in Pokemon; however, when considering my other question to just mess around with the relationship between total and attack, there is a slight relationship. The problem comes in that attack itself is a part of the total, so it feels...just wrong to use that question either way. In conclusion, the relationship may not be properly modeled using regression models, and may require a much more advanced algorithm."
   ]
  },
  {
   "cell_type": "markdown",
   "id": "57269e5e",
   "metadata": {},
   "source": [
    "#### VALIDATION PHASE FOR REGRESSION QUESTION"
   ]
  },
  {
   "cell_type": "markdown",
   "id": "c6065fc2",
   "metadata": {},
   "source": [
    "The code below this is all to validate whether or not the models that have been created work properly on data that it was not trained on."
   ]
  },
  {
   "cell_type": "code",
   "execution_count": 230,
   "id": "66e22fa0",
   "metadata": {},
   "outputs": [
    {
     "data": {
      "text/plain": [
       "0.5077149361743798"
      ]
     },
     "execution_count": 230,
     "metadata": {},
     "output_type": "execute_result"
    }
   ],
   "source": [
    "dataframe_only_type = dataframe_no_outliers[dataframe_no_outliers['Type 1'] == \"Normal\"] # I have chosen normal since it has the highest r^2 value in my previous evaluations\n",
    "\n",
    "x = dataframe_only_type[['Defense']]\n",
    "y = dataframe_only_type[['Attack']]\n",
    "\n",
    "x_train, x_test, y_train, y_test = train_test_split(x, y, test_size=0.3, random_state=42)\n",
    "x_val, x_test, y_val, y_test = train_test_split(x_test, y_test, test_size=0.33, random_state=42)\n",
    "\n",
    "model = LinearRegression(fit_intercept=True)\n",
    "model.fit(x_train, y_train)\n",
    "model.score(x_train, y_train)"
   ]
  },
  {
   "cell_type": "markdown",
   "id": "2ff5e8dd",
   "metadata": {},
   "source": [
    "##### BASIC ERROR CALCULATIONS"
   ]
  },
  {
   "cell_type": "code",
   "execution_count": 231,
   "id": "29dce435",
   "metadata": {},
   "outputs": [
    {
     "name": "stdout",
     "output_type": "stream",
     "text": [
      "R^2 value (training): 0.5077149361743798\n",
      "MSE value (training): 393.44169671434065\n",
      "MAE value (training): 14.981727292669932\n",
      "RMSE value (training): 19.83536479912433\n"
     ]
    }
   ],
   "source": [
    "r_squared_train = model.score(x_train, y_train)\n",
    "mse_train = mean_squared_error(y_train, model.predict(x_train))\n",
    "mae_train = mean_absolute_error(y_train, model.predict(x_train))\n",
    "rmse_train = np.sqrt(mse_train)\n",
    "\n",
    "print(f\"R^2 value (training): {r_squared_train}\")\n",
    "print(f\"MSE value (training): {mse_train}\")\n",
    "print(f\"MAE value (training): {mae_train}\")\n",
    "print(f\"RMSE value (training): {rmse_train}\")"
   ]
  },
  {
   "cell_type": "code",
   "execution_count": 232,
   "id": "d902ea88",
   "metadata": {},
   "outputs": [
    {
     "name": "stdout",
     "output_type": "stream",
     "text": [
      "R^2 value (validation): 0.6044405508221414\n",
      "MSE value (validation): 576.5783310064991\n",
      "MAE value (validation): 20.433279936970802\n",
      "RMSE value (validation): 24.01204553982228\n"
     ]
    }
   ],
   "source": [
    "r_squared_val = model.score(x_val, y_val)\n",
    "mse_val = mean_squared_error(y_val, model.predict(x_val))\n",
    "mae_val = mean_absolute_error(y_val, model.predict(x_val))\n",
    "rmse_val = np.sqrt(mse_val)\n",
    "\n",
    "print(f\"R^2 value (validation): {r_squared_val}\")\n",
    "print(f\"MSE value (validation): {mse_val}\")\n",
    "print(f\"MAE value (validation): {mae_val}\")\n",
    "print(f\"RMSE value (validation): {rmse_val}\")"
   ]
  },
  {
   "cell_type": "code",
   "execution_count": 233,
   "id": "7047d282",
   "metadata": {},
   "outputs": [
    {
     "name": "stdout",
     "output_type": "stream",
     "text": [
      "Cross-validation scores: [0.47995375 0.62701385 0.44921596 0.24260511 0.73214434]\n",
      "Mean cross-validated R^2: 0.5061866031064438\n"
     ]
    }
   ],
   "source": [
    "x_trainval_merged = pd.concat([x_train, x_val]).reset_index(drop=True)\n",
    "y_trainval_merged = pd.concat([y_train, y_val]).reset_index(drop=True)\n",
    "kf = KFold(n_splits=5, shuffle=True, random_state=42)\n",
    "cv_scores = cross_val_score(model, x_trainval_merged, y_trainval_merged, cv=kf, scoring='r2')\n",
    "print(f\"Cross-validation scores: {cv_scores}\")\n",
    "print(f\"Mean cross-validated R^2: {cv_scores.mean()}\")"
   ]
  },
  {
   "cell_type": "code",
   "execution_count": 234,
   "id": "efeb51a4",
   "metadata": {},
   "outputs": [
    {
     "data": {
      "image/png": "[encoded data removed]",
      "text/plain": [
       "<Figure size 640x480 with 1 Axes>"
      ]
     },
     "metadata": {},
     "output_type": "display_data"
    }
   ],
   "source": [
    "plt.scatter(x_trainval_merged, y_trainval_merged, color='blue', label='Data points')\n",
    "plt.show()"
   ]
  },
  {
   "cell_type": "code",
   "execution_count": 235,
   "id": "4bf4af4e",
   "metadata": {},
   "outputs": [
    {
     "name": "stdout",
     "output_type": "stream",
     "text": [
      "[[90, 60, 90, 70, 45, 10, 65, 45, 60, 95, 70, 65, 62, 75, 45, 50, 70, 80], [100, 62, 70, 65, 64, 40, 60, 60, 42, 23, 45, 30, 63, 30, 50, 75, 77, 5], [70, 45, 5, 50, 60, 34, 69, 30, 64, 77, 70, 75, 65, 80, 70, 39, 40, 84], [90, 35, 60, 50, 126, 43, 44, 105, 50, 50, 95, 120, 48, 86, 100, 60, 110], [65, 15, 95, 80, 80, 20, 70, 60, 55, 55, 60, 40, 30, 61, 38, 94, 40]]\n"
     ]
    }
   ],
   "source": [
    "folds = 1\n",
    "dataLists = []\n",
    "for train, val in kf.split(x_trainval_merged):\n",
    "    data = []\n",
    "    for index in val.tolist():\n",
    "        data.append(int(x_trainval_merged.iloc[index, 0])) \n",
    "    folds+=1\n",
    "    dataLists.append(data)\n",
    "\n",
    "print(dataLists)"
   ]
  },
  {
   "cell_type": "code",
   "execution_count": 236,
   "id": "17cd05b7",
   "metadata": {},
   "outputs": [
    {
     "name": "stdout",
     "output_type": "stream",
     "text": [
      "Fold 1:\n",
      "63.72222222222222\n",
      "Fold 2:\n",
      "53.388888888888886\n",
      "Fold 3:\n",
      "57.05555555555556\n",
      "Fold 4:\n",
      "74.82352941176471\n",
      "Fold 5:\n",
      "56.35294117647059\n"
     ]
    }
   ],
   "source": [
    "counter = 0\n",
    "for i in dataLists:\n",
    "    total = 0\n",
    "    print(f\"Fold {counter + 1}:\")\n",
    "    for j in i:\n",
    "        total += j\n",
    "    print(total/len(i))\n",
    "    counter += 1"
   ]
  },
  {
   "cell_type": "code",
   "execution_count": 237,
   "id": "6b4485a9",
   "metadata": {},
   "outputs": [
    {
     "name": "stdout",
     "output_type": "stream",
     "text": [
      "R^2 value (test): 0.1498252490973475\n",
      "MSE value (test): 276.7828919038676\n",
      "MAE value (test): 13.580733328581369\n",
      "RMSE value (test): 16.636793317940437\n"
     ]
    }
   ],
   "source": [
    "r_squared_test = model.score(x_test, y_test)\n",
    "mse_test = mean_squared_error(y_test, model.predict(x_test))\n",
    "mae_test = mean_absolute_error(y_test, model.predict(x_test))\n",
    "rmse_test = np.sqrt(mse_test)\n",
    "\n",
    "print(f\"R^2 value (test): {r_squared_test}\")\n",
    "print(f\"MSE value (test): {mse_test}\")\n",
    "print(f\"MAE value (test): {mae_test}\")\n",
    "print(f\"RMSE value (test): {rmse_test}\")"
   ]
  }
 ],
 "metadata": {
  "kernelspec": {
   "display_name": "Python 3",
   "language": "python",
   "name": "python3"
  },
  "language_info": {
   "codemirror_mode": {
    "name": "ipython",
    "version": 3
   },
   "file_extension": ".py",
   "mimetype": "text/x-python",
   "name": "python",
   "nbconvert_exporter": "python",
   "pygments_lexer": "ipython3",
   "version": "3.12.1"
  }
 },
 "nbformat": 4,
 "nbformat_minor": 5
}
